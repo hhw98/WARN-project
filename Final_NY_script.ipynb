{
 "cells": [
  {
   "cell_type": "code",
   "execution_count": 1,
   "metadata": {},
   "outputs": [],
   "source": [
    "import requests\n",
    "from bs4 import BeautifulSoup\n",
    "import pandas as pd\n",
    "import re\n",
    "import os\n",
    "import numpy as np\n",
    "import shutil\n",
    "import re\n",
    "import pandas as pd\n",
    "import urllib.request\n"
   ]
  },
  {
   "cell_type": "code",
   "execution_count": 2,
   "metadata": {},
   "outputs": [
    {
     "name": "stdout",
     "output_type": "stream",
     "text": [
      "https://labor.ny.gov/app/warn/default.asp?warnYr=2012\n",
      "https://labor.ny.gov/app/warn/default.asp?warnYr=2013\n",
      "https://labor.ny.gov/app/warn/default.asp?warnYr=2014\n",
      "https://labor.ny.gov/app/warn/default.asp?warnYr=2015\n",
      "https://labor.ny.gov/app/warn/default.asp?warnYr=2016\n",
      "https://labor.ny.gov/app/warn/default.asp?warnYr=2017\n",
      "https://labor.ny.gov/app/warn/default.asp?warnYr=2018\n",
      "https://labor.ny.gov/app/warn/default.asp?warnYr=2019\n",
      "https://labor.ny.gov/app/warn/default.asp?warnYr=2020\n"
     ]
    }
   ],
   "source": [
    "text = []\n",
    "links = []\n",
    "dirs = \"./html\"\n",
    "\n",
    "if os.path.exists(dirs):\n",
    "    shutil.rmtree(dirs)\n",
    "os.makedirs(dirs)\n",
    "for year in range(2012, 2021):\n",
    "    \n",
    "    url = \"https://labor.ny.gov/app/warn/default.asp?warnYr=\"+str(year)\n",
    "    print(url)\n",
    "    page = requests.get(url)\n",
    "    page.encoding = 'ISO-8859-1'\n",
    "    soup = BeautifulSoup(page.text, 'html.parser')\n",
    "    table_data = soup.findAll('td')\n",
    "    table_data = [ele for ele in table_data if re.sub(' +', ' ', ele.text).strip()]\n",
    "    base_url = \"https://labor.ny.gov/app/warn/\"\n",
    "    sub_url = [base_url+ele.find('a').get('href') for ele in table_data]\n",
    "\n",
    "\n",
    "\n",
    "    for ele in sub_url:\n",
    "        opener = urllib.request.build_opener()\n",
    "        opener.addheaders = [('User-agent', 'Mozilla/5.0')]\n",
    "        page = opener.open(ele).read().decode('utf-8')\n",
    "\n",
    "\n",
    "        with open(os.path.join(dirs, \"NY_\"+str(year)+\"_\"+ele.split('=')[1]+\".html\"), 'w',encoding = 'utf8') as file:\n",
    "            file.write(page)\n",
    "        soup = BeautifulSoup(page, 'html.parser')\n",
    "\n",
    "        table_data = soup.find('td')\n",
    "        content = table_data.text\n",
    "\n",
    "        elements = [ele.replace(u'\\xa0', u'') for ele in re.split(\"[\\n]\",content)]\n",
    "        elements = [ele for ele in elements if ele]\n",
    "\n",
    "        links.append(ele)\n",
    "        text.append(elements)\n",
    "        #print(elements)"
   ]
  },
  {
   "cell_type": "code",
   "execution_count": 4,
   "metadata": {},
   "outputs": [],
   "source": [
    "text2 = []\n",
    "for ele in text:\n",
    "    result = {}\n",
    "    symbol = \"&&\"\n",
    "    string = symbol.join(ele)\n",
    "    string = re.sub(' +', ' ', string).strip()\n",
    "    string = string.replace(\"Event Number\",\"Control Number\",1)\n",
    "    #print(string)\n",
    "    #print(string)\n",
    "    titles = ['Date of Notice', 'Control Number', 'Rapid Response Specialist', 'Reason Stated for Filing', 'Company', 'County', 'Contact', 'Phone', 'Business Type', 'Number Affected', 'Total Employees', 'Layoff Date', 'Closing Date', 'Reason for Dislocation', 'ERNUM', 'Union', 'Classification', symbol]\n",
    "    for i in range(len(titles)-1):\n",
    "        try:\n",
    "            tt = string.split(titles[i])[1].split(titles[i+1])[0].replace(\":\", \"\", 1).replace(symbol, \"\", 1)\n",
    "            result[titles[i]] = re.sub(' +', ' ', tt).strip()\n",
    "        except:\n",
    "            result[titles[i]] = \"\"\n",
    "    try:\n",
    "        tt_note = string.split(titles[-2])[1].split(symbol,1)[1].replace(symbol, \"\", 1)\n",
    "        result['notes'] = re.sub(' +', ' ', tt_note).strip()\n",
    "    except:\n",
    "        result['notes'] = \"\"\n",
    "    text2.append(result)"
   ]
  },
  {
   "cell_type": "code",
   "execution_count": null,
   "metadata": {},
   "outputs": [],
   "source": [
    "#result"
   ]
  },
  {
   "cell_type": "code",
   "execution_count": 5,
   "metadata": {},
   "outputs": [],
   "source": [
    "format_error = {}\n",
    "titles = ['Date of Notice', 'Control Number', 'Rapid Response Specialist', 'Reason Stated for Filing', 'Company', 'County', 'Contact', 'Phone', 'Business Type', 'Number Affected', 'Total Employees', 'Layoff Date', 'Closing Date', 'Reason for Dislocation', 'ERNUM', 'Union', 'Classification', 'notes']\n",
    "for title in titles:\n",
    "    format_error[title] = [ele[title] for ele in text2]\n",
    "format_error['link'] = links"
   ]
  },
  {
   "cell_type": "code",
   "execution_count": 6,
   "metadata": {},
   "outputs": [],
   "source": [
    "df_format = pd.DataFrame(data = format_error)\n",
    "df_final = df_format[(df_format['Control Number'] != '') & (df_format['Date of Notice'] != '') & (df_format['Rapid Response Specialist'] != '')]\n",
    "df_final.to_csv(\"final_result.csv\", index = False)"
   ]
  },
  {
   "cell_type": "code",
   "execution_count": 7,
   "metadata": {},
   "outputs": [],
   "source": [
    "df_error = df_format[(df_format['Control Number'] == '') | (df_format['Date of Notice'] == '') | (df_format['Rapid Response Specialist'] == '')]"
   ]
  },
  {
   "cell_type": "code",
   "execution_count": 8,
   "metadata": {},
   "outputs": [],
   "source": [
    "df_error.to_csv(\"final_error.csv\", index = False)"
   ]
  },
  {
   "cell_type": "code",
   "execution_count": null,
   "metadata": {},
   "outputs": [],
   "source": []
  },
  {
   "cell_type": "code",
   "execution_count": null,
   "metadata": {},
   "outputs": [],
   "source": [
    "#Reference:\n",
    "#https://regexr.com/"
   ]
  }
 ],
 "metadata": {
  "kernelspec": {
   "display_name": "Python 3",
   "language": "python",
   "name": "python3"
  },
  "language_info": {
   "codemirror_mode": {
    "name": "ipython",
    "version": 3
   },
   "file_extension": ".py",
   "mimetype": "text/x-python",
   "name": "python",
   "nbconvert_exporter": "python",
   "pygments_lexer": "ipython3",
   "version": "3.6.10"
  }
 },
 "nbformat": 4,
 "nbformat_minor": 4
}
